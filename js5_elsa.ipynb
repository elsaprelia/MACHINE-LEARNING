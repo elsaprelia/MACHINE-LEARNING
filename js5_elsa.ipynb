{
  "nbformat": 4,
  "nbformat_minor": 0,
  "metadata": {
    "colab": {
      "provenance": [],
      "authorship_tag": "ABX9TyP6lDP9WEsG08wppFNtir79",
      "include_colab_link": true
    },
    "kernelspec": {
      "name": "python3",
      "display_name": "Python 3"
    },
    "language_info": {
      "name": "python"
    }
  },
  "cells": [
    {
      "cell_type": "markdown",
      "metadata": {
        "id": "view-in-github",
        "colab_type": "text"
      },
      "source": [
        "<a href=\"https://colab.research.google.com/github/elsaprelia/MACHINE-LEARNING/blob/main/js5_elsa.ipynb\" target=\"_parent\"><img src=\"https://colab.research.google.com/assets/colab-badge.svg\" alt=\"Open In Colab\"/></a>"
      ]
    },
    {
      "cell_type": "markdown",
      "source": [
        "Jobsheet 05 - Decision tree\n",
        "Isikan identitas berikut :\n",
        "\n",
        "NIM : 2241727010\n",
        "Nama : ELSA APRELIANI SUTRISNO\n",
        "Kelas : 4J"
      ],
      "metadata": {
        "id": "ld3XQYluG3q4"
      }
    },
    {
      "cell_type": "markdown",
      "source": [
        "Tujuan\n",
        "Mahasiswa mampu menjelaskan konsep Decision Tree\n",
        "Mahasiswa mampu menerapkan konsep Decision tree untuk klasifikasi\n",
        "Mahasiswa mampu menerapkan konsep Decision tree untuk regresi"
      ],
      "metadata": {
        "id": "o1MK2PW7G_LK"
      }
    },
    {
      "cell_type": "markdown",
      "source": [
        "Materi\n",
        "Pengertian Decision Tree\n",
        "Decision tree merupakan salah satu model machine learning yang termasuk kedalam supervised learning. decision tree berbentuk seperti graph yang memodelkan keputusan. Digunakan untuk merepresentasikan keputusan dan pengambilan keputusan secara visual dan eksplisit. Decision tree disebut juga dengan istilah CART (Classification and Regression Trees) yang diperkenalkan oleh Leo Breiman untuk merujuk pada algoritma Decision Tree yang dapat digunakan untuk masalah klasifikasi atau regresi. Algoritma CART menyediakan dasar untuk algoritma penting seperti bagged decision trees, random forest and boosted decision trees.\n",
        "\n",
        "Istilah penting dalam Decision tree\n",
        "\n",
        "features example\n",
        "\n",
        "Model decision tree adalah binary tree dimana tree tersebut terdiri dari bebrapa komponen yaitu :\n",
        "\n",
        "Setiap Node mewakili Fitur (Atribut/ variable x) pada gambar 7.1 node disimbolkan dengan persegi Panjang\n",
        "Setiap Branch atau Link atau Edge mewakili Keputusan atau Aturan yang disimbolkan dengan panah\n",
        "Setiap leaf mewakili Hasil keputusan yang merupakan output variable digunakan sabagai hasil prediksi, disimbolkan dengan bentuk elips.\n",
        "Selain komponen diatas terdapat beberapa istilah yang ada dalam decision tree\n",
        "\n",
        "Splitting / Pemisahan: Ini adalah proses membagi node menjadi dua atau lebih sub-node.\n",
        "Decision Node: Ketika sub-node terpecah menjadi sub-node lebih lanjut, maka itu disebut node keputusan.\n",
        "Pruning / Pemangkasan: Saat dilakukan penghapusan sub-node dari node keputusan, proses ini disebut pemangkasan.\n",
        "Branch / Sub-Tree: Sebuah sub-bagian dari seluruh pohon disebut cabang atau sub-pohon.\n",
        "Parent and Child Node (Node Induk dan Anak): Node, yang dibagi menjadi beberapa sub-node disebut node induk dari sub-node sedangkan sub-node adalah anak dari node induk\n",
        "Pada permasalahan klasifikasi leaf node dari decision tree mewakili kelas sedangkan pada permasalahan regresi nilai variabel respons untuk instance yang terdapat dalam leaf node dapat dirata-ratakan untuk menghasilkan estimasi untuk variabel respons. Cara untuk melakukan prediksi pada decision tree untuk data pengujian hanya perlu mengikuti edge sampai mencapai leaf node.\n",
        "\n",
        "Tahapan Algoritma Decision Tree\n",
        "Pada Decision tree pembuatan tree merupakan Langkah awal yang harus dilaksanan. Dalam pembuatan tree diperlukan perhitungan menggunakan Information Gain ataupun Gini Index untuk menentukan Root node/ node selanjutnya. Berikut merupakah tahapan pembuatan tree secara top-down:\n",
        "\n",
        "Pada iterasi pertama dilakukan pemilihan Root Node didasarkan pada Gini Indeks terendah atau Information Gain tertinggi dari keseluruhan fitur (variable x) pada data training.\n",
        "Kemudian memisahkan himpunan S untuk menghasilkan subset data\n",
        "Selanjut proses akan diulang untuk mencari decision node yang akan menjadi cabang selanjutnya. Penentuan decision node juga menggunakan Gini Indeks terendah atau Information Gain tertinggi. Akan tetapi yang membedakan adalah fitur yang digunakan adalah fitur yang tidak pernah menggunakan sebelum nya (subset data)\n",
        "Algoritma terus menerus berulang pada setiap subset data hingga menemukan leaf yang merupakan label kelas"
      ],
      "metadata": {
        "id": "aEXCxJp2HEZb"
      }
    },
    {
      "cell_type": "markdown",
      "source": [
        "Kegiatan Praktikum\n",
        "Persiapan"
      ],
      "metadata": {
        "id": "TeK3YlyoHIsQ"
      }
    },
    {
      "cell_type": "code",
      "source": [],
      "metadata": {
        "id": "LZwADvAcHMod"
      },
      "execution_count": null,
      "outputs": []
    }
  ]
}